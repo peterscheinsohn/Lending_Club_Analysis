{
  "nbformat": 4,
  "nbformat_minor": 0,
  "metadata": {
    "colab": {
      "provenance": []
    },
    "kernelspec": {
      "name": "python3",
      "display_name": "Python 3"
    },
    "language_info": {
      "name": "python"
    }
  },
  "cells": [
    {
      "cell_type": "code",
      "execution_count": null,
      "metadata": {
        "id": "pN3JCuQ_gjdm"
      },
      "outputs": [],
      "source": [
        "import pandas as pd\n",
        "import os\n",
        "\n",
        "# Set pandas display options to show all columns\n",
        "pd.set_option('display.max_rows', None)\n",
        "pd.set_option('display.max_columns', None)\n",
        "pd.set_option('display.width', None)\n",
        "\n",
        "# Step 1: Load the original dataset\n",
        "original_file = '/Users/peterscheinsohn/Documents/Lending Club Analysis/data/accepted_2007_to_2018Q4.csv'\n",
        "downloads_folder = '/Users/peterscheinsohn/Downloads'\n",
        "\n",
        "# Ensure the file exists\n",
        "if not os.path.exists(original_file):\n",
        "    print(f\"Error: The file {original_file} does not exist.\")\n",
        "    exit()\n",
        "\n",
        "# Load the dataset\n",
        "df = pd.read_csv(original_file, low_memory=False)\n",
        "\n",
        "# Step 2: Calculate the percentage of missing values for each column\n",
        "missing_values_percent = (df.isnull().sum() / len(df)) * 100\n",
        "\n",
        "# Step 3: Drop columns with more than 35% missing values\n",
        "columns_to_drop = missing_values_percent[missing_values_percent > 35].index\n",
        "df.drop(columns=columns_to_drop, inplace=True)\n",
        "\n",
        "# Step 4: Save the cleaned dataset to a new CSV file in the Downloads folder\n",
        "cleaned_file_csv = os.path.join(downloads_folder, 'loans_club_cleaned.csv')\n",
        "df.to_csv(cleaned_file_csv, index=False)\n",
        "\n",
        "print(f\"Cleaned dataset saved to {cleaned_file_csv}\")"
      ]
    }
  ]
}