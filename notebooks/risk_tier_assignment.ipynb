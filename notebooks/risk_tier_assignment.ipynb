{
  "nbformat": 4,
  "nbformat_minor": 0,
  "metadata": {
    "colab": {
      "provenance": []
    },
    "kernelspec": {
      "name": "python3",
      "display_name": "Python 3"
    },
    "language_info": {
      "name": "python"
    }
  },
  "cells": [
    {
      "cell_type": "code",
      "source": [
        "import pandas as pd\n",
        "import os\n",
        "\n",
        "# Step 1: Load the double cleaned dataset\n",
        "double_cleaned_file_csv = '/Users/peterscheinsohn/Downloads/loans_double_cleaned.csv'\n",
        "\n",
        "# Ensure the file exists\n",
        "if not os.path.exists(double_cleaned_file_csv):\n",
        "    print(f\"Error: The file {double_cleaned_file_csv} does not exist.\")\n",
        "    exit()\n",
        "\n",
        "# Load the dataset\n",
        "df = pd.read_csv(double_cleaned_file_csv, low_memory=False)\n",
        "\n",
        "# Step 2: Define the function to assign risk tiers\n",
        "def assign_risk_tier(row):\n",
        "    if row['avg_fico_score'] <= 650 or row['revol_util'] >= 80:\n",
        "        return 'High Risk'\n",
        "    elif row['avg_fico_score'] >= 750 and row['revol_util'] <= 30:\n",
        "        return 'Low Risk'\n",
        "    else:\n",
        "        return 'Medium Risk'\n",
        "\n",
        "# Step 3: Apply the risk tier function to the DataFrame\n",
        "df['risk_tier'] = df.apply(assign_risk_tier, axis=1)\n",
        "\n",
        "# Step 4: Save the cleaned dataset with risk tiers to a new CSV file in the Downloads folder\n",
        "risk_tier_file_csv = '/Users/peterscheinsohn/Downloads/loans_double_cleaned_risk_tier.csv'\n",
        "df.to_csv(risk_tier_file_csv, index=False)\n",
        "\n",
        "print(f\"Dataset with risk tiers saved to {risk_tier_file_csv}\")"
      ],
      "metadata": {
        "id": "7bLDZPJ1ypiR"
      },
      "execution_count": null,
      "outputs": []
    }
  ]
}