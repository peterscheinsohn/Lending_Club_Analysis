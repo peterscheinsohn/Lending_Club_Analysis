{
  "nbformat": 4,
  "nbformat_minor": 0,
  "metadata": {
    "colab": {
      "provenance": []
    },
    "kernelspec": {
      "name": "python3",
      "display_name": "Python 3"
    },
    "language_info": {
      "name": "python"
    }
  },
  "cells": [
    {
      "cell_type": "code",
      "execution_count": null,
      "metadata": {
        "id": "TqWQ2Ij2to9n"
      },
      "outputs": [],
      "source": [
        "import pandas as pd\n",
        "import os\n",
        "\n",
        "# Step 1: Load the previously cleaned dataset\n",
        "cleaned_file_csv = '/Users/peterscheinsohn/Downloads/loans_club_cleaned.csv'\n",
        "\n",
        "# Ensure the file exists\n",
        "if not os.path.exists(cleaned_file_csv):\n",
        "    print(f\"Error: The file {cleaned_file_csv} does not exist.\")\n",
        "    exit()\n",
        "\n",
        "# Load the dataset\n",
        "df = pd.read_csv(cleaned_file_csv, low_memory=False)\n",
        "\n",
        "# Step 2: Replace null values with the median for numeric columns\n",
        "numeric_columns = df.select_dtypes(include=[float, int]).columns\n",
        "for col in numeric_columns:\n",
        "    df[col].fillna(df[col].median(), inplace=True)\n",
        "\n",
        "# Step 3: Replace null values with \"unknown\" for object columns\n",
        "object_columns = df.select_dtypes(include=[object]).columns\n",
        "for col in object_columns:\n",
        "    df[col].fillna(\"unknown\", inplace=True)\n",
        "\n",
        "# Step 4: Create a new column avg_fico_score by combining fico_range_low and fico_range_high\n",
        "df['avg_fico_score'] = (df['fico_range_low'] + df['fico_range_high']) / 2\n",
        "\n",
        "# Step 5: Save the cleaned dataset to a new CSV file in the Downloads folder\n",
        "double_cleaned_file_csv = '/Users/peterscheinsohn/Downloads/loans_double_cleaned.csv'\n",
        "df.to_csv(double_cleaned_file_csv, index=False)\n",
        "\n",
        "print(f\"Double cleaned dataset saved to {double_cleaned_file_csv}\")"
      ]
    }
  ]
}